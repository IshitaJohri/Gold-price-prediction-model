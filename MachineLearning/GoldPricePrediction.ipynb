{
 "cells": [
  {
   "cell_type": "code",
   "execution_count": 1,
   "id": "823e96b1-754c-4cc7-a1ab-d4f284e0f1a0",
   "metadata": {},
   "outputs": [],
   "source": [
    "import numpy as np\n",
    "import pandas as pd\n",
    "import matplotlib.pyplot as plt\n",
    "import seaborn as sns\n",
    "from sklearn.model_selection import train_test_split\n",
    "from sklearn.ensemble import RandomForestRegressor\n",
    "from sklearn import metrics\n",
    "#metrics is used to evaluate accuracy, to evaluate the r score"
   ]
  },
  {
   "cell_type": "markdown",
   "id": "c56c5df5-e68d-42f7-8520-e65ef96eba7b",
   "metadata": {},
   "source": [
    "DATA COLLECTION AND PREPROCESSING"
   ]
  },
  {
   "cell_type": "code",
   "execution_count": 5,
   "id": "5ad543d5-e38e-4555-9a64-0ddaeec80b4d",
   "metadata": {},
   "outputs": [],
   "source": [
    "#Loading csv data to a pandas dataframe\n",
    "gold_data = pd.read_csv('PycharmProjects/MachineLearning/content/gld_price_data.csv')"
   ]
  },
  {
   "cell_type": "code",
   "execution_count": 6,
   "id": "0c724227-bdbb-49d3-87d0-d681071c635e",
   "metadata": {},
   "outputs": [
    {
     "data": {
      "text/html": [
       "<div>\n",
       "<style scoped>\n",
       "    .dataframe tbody tr th:only-of-type {\n",
       "        vertical-align: middle;\n",
       "    }\n",
       "\n",
       "    .dataframe tbody tr th {\n",
       "        vertical-align: top;\n",
       "    }\n",
       "\n",
       "    .dataframe thead th {\n",
       "        text-align: right;\n",
       "    }\n",
       "</style>\n",
       "<table border=\"1\" class=\"dataframe\">\n",
       "  <thead>\n",
       "    <tr style=\"text-align: right;\">\n",
       "      <th></th>\n",
       "      <th>Date</th>\n",
       "      <th>SPX</th>\n",
       "      <th>GLD</th>\n",
       "      <th>USO</th>\n",
       "      <th>SLV</th>\n",
       "      <th>EUR/USD</th>\n",
       "    </tr>\n",
       "  </thead>\n",
       "  <tbody>\n",
       "    <tr>\n",
       "      <th>0</th>\n",
       "      <td>1/2/2008</td>\n",
       "      <td>1447.160034</td>\n",
       "      <td>84.860001</td>\n",
       "      <td>78.470001</td>\n",
       "      <td>15.180</td>\n",
       "      <td>1.471692</td>\n",
       "    </tr>\n",
       "    <tr>\n",
       "      <th>1</th>\n",
       "      <td>1/3/2008</td>\n",
       "      <td>1447.160034</td>\n",
       "      <td>85.570000</td>\n",
       "      <td>78.370003</td>\n",
       "      <td>15.285</td>\n",
       "      <td>1.474491</td>\n",
       "    </tr>\n",
       "    <tr>\n",
       "      <th>2</th>\n",
       "      <td>1/4/2008</td>\n",
       "      <td>1411.630005</td>\n",
       "      <td>85.129997</td>\n",
       "      <td>77.309998</td>\n",
       "      <td>15.167</td>\n",
       "      <td>1.475492</td>\n",
       "    </tr>\n",
       "    <tr>\n",
       "      <th>3</th>\n",
       "      <td>1/7/2008</td>\n",
       "      <td>1416.180054</td>\n",
       "      <td>84.769997</td>\n",
       "      <td>75.500000</td>\n",
       "      <td>15.053</td>\n",
       "      <td>1.468299</td>\n",
       "    </tr>\n",
       "    <tr>\n",
       "      <th>4</th>\n",
       "      <td>1/8/2008</td>\n",
       "      <td>1390.189941</td>\n",
       "      <td>86.779999</td>\n",
       "      <td>76.059998</td>\n",
       "      <td>15.590</td>\n",
       "      <td>1.557099</td>\n",
       "    </tr>\n",
       "  </tbody>\n",
       "</table>\n",
       "</div>"
      ],
      "text/plain": [
       "       Date          SPX        GLD        USO     SLV   EUR/USD\n",
       "0  1/2/2008  1447.160034  84.860001  78.470001  15.180  1.471692\n",
       "1  1/3/2008  1447.160034  85.570000  78.370003  15.285  1.474491\n",
       "2  1/4/2008  1411.630005  85.129997  77.309998  15.167  1.475492\n",
       "3  1/7/2008  1416.180054  84.769997  75.500000  15.053  1.468299\n",
       "4  1/8/2008  1390.189941  86.779999  76.059998  15.590  1.557099"
      ]
     },
     "execution_count": 6,
     "metadata": {},
     "output_type": "execute_result"
    }
   ],
   "source": [
    "# print first 5 rows in the dataframe\n",
    "gold_data.head()"
   ]
  },
  {
   "cell_type": "code",
   "execution_count": null,
   "id": "04a57338-6eb4-47bc-8b95-6dcc425a4d15",
   "metadata": {},
   "outputs": [],
   "source": [
    "#can also use forecasting using LSTM"
   ]
  },
  {
   "cell_type": "code",
   "execution_count": 8,
   "id": "fe23c7a0-e9dc-48e4-84b0-b241c8ab95f7",
   "metadata": {
    "tags": []
   },
   "outputs": [
    {
     "data": {
      "text/html": [
       "<div>\n",
       "<style scoped>\n",
       "    .dataframe tbody tr th:only-of-type {\n",
       "        vertical-align: middle;\n",
       "    }\n",
       "\n",
       "    .dataframe tbody tr th {\n",
       "        vertical-align: top;\n",
       "    }\n",
       "\n",
       "    .dataframe thead th {\n",
       "        text-align: right;\n",
       "    }\n",
       "</style>\n",
       "<table border=\"1\" class=\"dataframe\">\n",
       "  <thead>\n",
       "    <tr style=\"text-align: right;\">\n",
       "      <th></th>\n",
       "      <th>Date</th>\n",
       "      <th>SPX</th>\n",
       "      <th>GLD</th>\n",
       "      <th>USO</th>\n",
       "      <th>SLV</th>\n",
       "      <th>EUR/USD</th>\n",
       "    </tr>\n",
       "  </thead>\n",
       "  <tbody>\n",
       "    <tr>\n",
       "      <th>2285</th>\n",
       "      <td>5/8/2018</td>\n",
       "      <td>2671.919922</td>\n",
       "      <td>124.589996</td>\n",
       "      <td>14.0600</td>\n",
       "      <td>15.5100</td>\n",
       "      <td>1.186789</td>\n",
       "    </tr>\n",
       "    <tr>\n",
       "      <th>2286</th>\n",
       "      <td>5/9/2018</td>\n",
       "      <td>2697.790039</td>\n",
       "      <td>124.330002</td>\n",
       "      <td>14.3700</td>\n",
       "      <td>15.5300</td>\n",
       "      <td>1.184722</td>\n",
       "    </tr>\n",
       "    <tr>\n",
       "      <th>2287</th>\n",
       "      <td>5/10/2018</td>\n",
       "      <td>2723.070068</td>\n",
       "      <td>125.180000</td>\n",
       "      <td>14.4100</td>\n",
       "      <td>15.7400</td>\n",
       "      <td>1.191753</td>\n",
       "    </tr>\n",
       "    <tr>\n",
       "      <th>2288</th>\n",
       "      <td>5/14/2018</td>\n",
       "      <td>2730.129883</td>\n",
       "      <td>124.489998</td>\n",
       "      <td>14.3800</td>\n",
       "      <td>15.5600</td>\n",
       "      <td>1.193118</td>\n",
       "    </tr>\n",
       "    <tr>\n",
       "      <th>2289</th>\n",
       "      <td>5/16/2018</td>\n",
       "      <td>2725.780029</td>\n",
       "      <td>122.543800</td>\n",
       "      <td>14.4058</td>\n",
       "      <td>15.4542</td>\n",
       "      <td>1.182033</td>\n",
       "    </tr>\n",
       "  </tbody>\n",
       "</table>\n",
       "</div>"
      ],
      "text/plain": [
       "           Date          SPX         GLD      USO      SLV   EUR/USD\n",
       "2285   5/8/2018  2671.919922  124.589996  14.0600  15.5100  1.186789\n",
       "2286   5/9/2018  2697.790039  124.330002  14.3700  15.5300  1.184722\n",
       "2287  5/10/2018  2723.070068  125.180000  14.4100  15.7400  1.191753\n",
       "2288  5/14/2018  2730.129883  124.489998  14.3800  15.5600  1.193118\n",
       "2289  5/16/2018  2725.780029  122.543800  14.4058  15.4542  1.182033"
      ]
     },
     "execution_count": 8,
     "metadata": {},
     "output_type": "execute_result"
    }
   ],
   "source": [
    "#print last 5 rows of the dataframe\n",
    "gold_data.tail()"
   ]
  },
  {
   "cell_type": "code",
   "execution_count": 9,
   "id": "93fbcd45-3f92-4f2c-9776-1243ab3c5e77",
   "metadata": {},
   "outputs": [
    {
     "data": {
      "text/plain": [
       "(2290, 6)"
      ]
     },
     "execution_count": 9,
     "metadata": {},
     "output_type": "execute_result"
    }
   ],
   "source": [
    "# number of rows and columns\n",
    "gold_data.shape"
   ]
  },
  {
   "cell_type": "code",
   "execution_count": 11,
   "id": "ef4b2ae7-fb86-44a0-b49e-2b2a37c2ef65",
   "metadata": {},
   "outputs": [
    {
     "name": "stdout",
     "output_type": "stream",
     "text": [
      "<class 'pandas.core.frame.DataFrame'>\n",
      "RangeIndex: 2290 entries, 0 to 2289\n",
      "Data columns (total 6 columns):\n",
      " #   Column   Non-Null Count  Dtype  \n",
      "---  ------   --------------  -----  \n",
      " 0   Date     2290 non-null   object \n",
      " 1   SPX      2290 non-null   float64\n",
      " 2   GLD      2290 non-null   float64\n",
      " 3   USO      2290 non-null   float64\n",
      " 4   SLV      2290 non-null   float64\n",
      " 5   EUR/USD  2290 non-null   float64\n",
      "dtypes: float64(5), object(1)\n",
      "memory usage: 107.5+ KB\n"
     ]
    }
   ],
   "source": [
    "#getting some basic information about the data\n",
    "gold_data.info()"
   ]
  },
  {
   "cell_type": "code",
   "execution_count": 12,
   "id": "80fff334-4335-43d2-830c-dfc4f4edf833",
   "metadata": {},
   "outputs": [
    {
     "data": {
      "text/plain": [
       "Date       0\n",
       "SPX        0\n",
       "GLD        0\n",
       "USO        0\n",
       "SLV        0\n",
       "EUR/USD    0\n",
       "dtype: int64"
      ]
     },
     "execution_count": 12,
     "metadata": {},
     "output_type": "execute_result"
    }
   ],
   "source": [
    "# checking the number of missing values\n",
    "gold_data.isnull().sum()\n",
    "#do check out imputation method incase values are missing"
   ]
  },
  {
   "cell_type": "code",
   "execution_count": 13,
   "id": "13de38d3-d419-447f-90ce-73d9077d835c",
   "metadata": {},
   "outputs": [
    {
     "data": {
      "text/html": [
       "<div>\n",
       "<style scoped>\n",
       "    .dataframe tbody tr th:only-of-type {\n",
       "        vertical-align: middle;\n",
       "    }\n",
       "\n",
       "    .dataframe tbody tr th {\n",
       "        vertical-align: top;\n",
       "    }\n",
       "\n",
       "    .dataframe thead th {\n",
       "        text-align: right;\n",
       "    }\n",
       "</style>\n",
       "<table border=\"1\" class=\"dataframe\">\n",
       "  <thead>\n",
       "    <tr style=\"text-align: right;\">\n",
       "      <th></th>\n",
       "      <th>SPX</th>\n",
       "      <th>GLD</th>\n",
       "      <th>USO</th>\n",
       "      <th>SLV</th>\n",
       "      <th>EUR/USD</th>\n",
       "    </tr>\n",
       "  </thead>\n",
       "  <tbody>\n",
       "    <tr>\n",
       "      <th>count</th>\n",
       "      <td>2290.000000</td>\n",
       "      <td>2290.000000</td>\n",
       "      <td>2290.000000</td>\n",
       "      <td>2290.000000</td>\n",
       "      <td>2290.000000</td>\n",
       "    </tr>\n",
       "    <tr>\n",
       "      <th>mean</th>\n",
       "      <td>1654.315776</td>\n",
       "      <td>122.732875</td>\n",
       "      <td>31.842221</td>\n",
       "      <td>20.084997</td>\n",
       "      <td>1.283653</td>\n",
       "    </tr>\n",
       "    <tr>\n",
       "      <th>std</th>\n",
       "      <td>519.111540</td>\n",
       "      <td>23.283346</td>\n",
       "      <td>19.523517</td>\n",
       "      <td>7.092566</td>\n",
       "      <td>0.131547</td>\n",
       "    </tr>\n",
       "    <tr>\n",
       "      <th>min</th>\n",
       "      <td>676.530029</td>\n",
       "      <td>70.000000</td>\n",
       "      <td>7.960000</td>\n",
       "      <td>8.850000</td>\n",
       "      <td>1.039047</td>\n",
       "    </tr>\n",
       "    <tr>\n",
       "      <th>25%</th>\n",
       "      <td>1239.874969</td>\n",
       "      <td>109.725000</td>\n",
       "      <td>14.380000</td>\n",
       "      <td>15.570000</td>\n",
       "      <td>1.171313</td>\n",
       "    </tr>\n",
       "    <tr>\n",
       "      <th>50%</th>\n",
       "      <td>1551.434998</td>\n",
       "      <td>120.580002</td>\n",
       "      <td>33.869999</td>\n",
       "      <td>17.268500</td>\n",
       "      <td>1.303297</td>\n",
       "    </tr>\n",
       "    <tr>\n",
       "      <th>75%</th>\n",
       "      <td>2073.010070</td>\n",
       "      <td>132.840004</td>\n",
       "      <td>37.827501</td>\n",
       "      <td>22.882500</td>\n",
       "      <td>1.369971</td>\n",
       "    </tr>\n",
       "    <tr>\n",
       "      <th>max</th>\n",
       "      <td>2872.870117</td>\n",
       "      <td>184.589996</td>\n",
       "      <td>117.480003</td>\n",
       "      <td>47.259998</td>\n",
       "      <td>1.598798</td>\n",
       "    </tr>\n",
       "  </tbody>\n",
       "</table>\n",
       "</div>"
      ],
      "text/plain": [
       "               SPX          GLD          USO          SLV      EUR/USD\n",
       "count  2290.000000  2290.000000  2290.000000  2290.000000  2290.000000\n",
       "mean   1654.315776   122.732875    31.842221    20.084997     1.283653\n",
       "std     519.111540    23.283346    19.523517     7.092566     0.131547\n",
       "min     676.530029    70.000000     7.960000     8.850000     1.039047\n",
       "25%    1239.874969   109.725000    14.380000    15.570000     1.171313\n",
       "50%    1551.434998   120.580002    33.869999    17.268500     1.303297\n",
       "75%    2073.010070   132.840004    37.827501    22.882500     1.369971\n",
       "max    2872.870117   184.589996   117.480003    47.259998     1.598798"
      ]
     },
     "execution_count": 13,
     "metadata": {},
     "output_type": "execute_result"
    }
   ],
   "source": [
    "# getting the statistical measures of the data\n",
    "gold_data.describe()\n",
    "##this is a very useful function"
   ]
  },
  {
   "cell_type": "markdown",
   "id": "96af723a-cdb8-447f-9447-d094357d62ac",
   "metadata": {},
   "source": [
    "CORRELATION:\n",
    "1) POSITIVE CORRELATION\n",
    "2) NEGATIVE CORRELATION\n",
    "* it tells us which all columns are interrelated\n",
    "* in +ve corr. variables are directly proportional\n",
    "* in -ve corr. var. are inversely proportional\n"
   ]
  },
  {
   "cell_type": "code",
   "execution_count": 15,
   "id": "0eee18bb-300d-485a-84c8-eeedc646425a",
   "metadata": {},
   "outputs": [],
   "source": [
    "correlation= gold_data.corr()"
   ]
  },
  {
   "cell_type": "code",
   "execution_count": 24,
   "id": "29a24b42-0292-45c5-9a36-227aad0ecd57",
   "metadata": {},
   "outputs": [
    {
     "data": {
      "text/plain": [
       "<AxesSubplot:>"
      ]
     },
     "execution_count": 24,
     "metadata": {},
     "output_type": "execute_result"
    },
    {
     "data": {
      "image/png": "[encoded data removed]",
      "text/plain": [
       "<Figure size 576x576 with 2 Axes>"
      ]
     },
     "metadata": {
      "needs_background": "light"
     },
     "output_type": "display_data"
    }
   ],
   "source": [
    "#Constructing a heatmap to understand the correlation\n",
    "plt.figure(figsize = (8,8))\n",
    "sns.heatmap(correlation, annot=True, square=True, cbar= True, cmap='Blues' )"
   ]
  },
  {
   "cell_type": "code",
   "execution_count": 27,
   "id": "76b0d6da-a3f4-4321-8875-1333f097a6f0",
   "metadata": {},
   "outputs": [
    {
     "name": "stdout",
     "output_type": "stream",
     "text": [
      "SPX        0.049345\n",
      "GLD        1.000000\n",
      "USO       -0.186360\n",
      "SLV        0.866632\n",
      "EUR/USD   -0.024375\n",
      "Name: GLD, dtype: float64\n"
     ]
    }
   ],
   "source": [
    "# correlation values of GLD\n",
    "print(correlation['GLD'])"
   ]
  },
  {
   "cell_type": "code",
   "execution_count": 28,
   "id": "56a2b937-2342-4272-bc8d-867c8c830848",
   "metadata": {},
   "outputs": [
    {
     "name": "stderr",
     "output_type": "stream",
     "text": [
      "C:\\Users\\ishit\\anaconda3\\lib\\site-packages\\seaborn\\distributions.py:2557: FutureWarning: `distplot` is a deprecated function and will be removed in a future version. Please adapt your code to use either `displot` (a figure-level function with similar flexibility) or `histplot` (an axes-level function for histograms).\n",
      "  warnings.warn(msg, FutureWarning)\n"
     ]
    },
    {
     "data": {
      "text/plain": [
       "<AxesSubplot:xlabel='GLD', ylabel='Density'>"
      ]
     },
     "execution_count": 28,
     "metadata": {},
     "output_type": "execute_result"
    },
    {
     "data": {
      "image/png": "[encoded data removed]",
      "text/plain": [
       "<Figure size 432x288 with 1 Axes>"
      ]
     },
     "metadata": {
      "needs_background": "light"
     },
     "output_type": "display_data"
    }
   ],
   "source": [
    "# checking the distribution of the GLD Price\n",
    "sns.distplot(gold_data['GLD'],color='green')"
   ]
  },
  {
   "cell_type": "markdown",
   "id": "7e96a347-fde0-4bdb-8422-73f3a8df0c64",
   "metadata": {},
   "source": [
    "SPLITTING THE FEATURES (Spx etc.) AND TARGET (Gold price) "
   ]
  },
  {
   "cell_type": "code",
   "execution_count": 29,
   "id": "e41442ff-d38a-4f86-a6d1-7fc7fe14f161",
   "metadata": {},
   "outputs": [],
   "source": [
    "# axis=1 for column\n",
    "X = gold_data.drop(['Date','GLD'],axis=1)\n",
    "Y = gold_data['GLD']"
   ]
  },
  {
   "cell_type": "code",
   "execution_count": 30,
   "id": "ec0e5088-3b44-4ffc-9562-5c7d50303417",
   "metadata": {},
   "outputs": [
    {
     "name": "stdout",
     "output_type": "stream",
     "text": [
      "              SPX        USO      SLV   EUR/USD\n",
      "0     1447.160034  78.470001  15.1800  1.471692\n",
      "1     1447.160034  78.370003  15.2850  1.474491\n",
      "2     1411.630005  77.309998  15.1670  1.475492\n",
      "3     1416.180054  75.500000  15.0530  1.468299\n",
      "4     1390.189941  76.059998  15.5900  1.557099\n",
      "...           ...        ...      ...       ...\n",
      "2285  2671.919922  14.060000  15.5100  1.186789\n",
      "2286  2697.790039  14.370000  15.5300  1.184722\n",
      "2287  2723.070068  14.410000  15.7400  1.191753\n",
      "2288  2730.129883  14.380000  15.5600  1.193118\n",
      "2289  2725.780029  14.405800  15.4542  1.182033\n",
      "\n",
      "[2290 rows x 4 columns]\n"
     ]
    }
   ],
   "source": [
    "print(X)"
   ]
  },
  {
   "cell_type": "code",
   "execution_count": 31,
   "id": "0d58d903-c18a-418e-896d-02d4998f065f",
   "metadata": {},
   "outputs": [
    {
     "name": "stdout",
     "output_type": "stream",
     "text": [
      "0        84.860001\n",
      "1        85.570000\n",
      "2        85.129997\n",
      "3        84.769997\n",
      "4        86.779999\n",
      "           ...    \n",
      "2285    124.589996\n",
      "2286    124.330002\n",
      "2287    125.180000\n",
      "2288    124.489998\n",
      "2289    122.543800\n",
      "Name: GLD, Length: 2290, dtype: float64\n"
     ]
    }
   ],
   "source": [
    "print(Y)"
   ]
  },
  {
   "cell_type": "markdown",
   "id": "cb7e5d45-c67b-4926-af80-dcce1dfbe23d",
   "metadata": {},
   "source": [
    "Splitting into Training data and Test Data"
   ]
  },
  {
   "cell_type": "code",
   "execution_count": 32,
   "id": "b4acc3ed-aca9-4d15-86a1-ce77f8946ebd",
   "metadata": {},
   "outputs": [],
   "source": [
    "X_train, X_test, Y_train, Y_test = train_test_split(X, Y, test_size = 0.2, random_state=2)"
   ]
  },
  {
   "cell_type": "markdown",
   "id": "4a280c13-0dd9-4b89-bc28-17116f1702dc",
   "metadata": {},
   "source": [
    "Model Training:\n",
    "Random Forest Regressor"
   ]
  },
  {
   "cell_type": "code",
   "execution_count": 42,
   "id": "fd61d719-f798-4900-9511-46ce6fce4f50",
   "metadata": {},
   "outputs": [],
   "source": [
    "regressor = RandomForestRegressor(n_estimators=100)"
   ]
  },
  {
   "cell_type": "code",
   "execution_count": 43,
   "id": "f3425493-de42-4698-9f29-6cb586658ad3",
   "metadata": {},
   "outputs": [
    {
     "data": {
      "text/plain": [
       "RandomForestRegressor()"
      ]
     },
     "execution_count": 43,
     "metadata": {},
     "output_type": "execute_result"
    }
   ],
   "source": [
    "# training the model\n",
    "regressor.fit(X_train,Y_train)"
   ]
  },
  {
   "cell_type": "markdown",
   "id": "bceef0fc-1608-4461-9865-83681fb8210d",
   "metadata": {},
   "source": [
    "Model evaluation:"
   ]
  },
  {
   "cell_type": "code",
   "execution_count": 36,
   "id": "fd3ed20e-19ae-4f88-8d46-43d6a4ff4e61",
   "metadata": {},
   "outputs": [],
   "source": [
    "# prediction on Test Data\n",
    "test_data_prediction = regressor.predict(X_test)"
   ]
  },
  {
   "cell_type": "code",
   "execution_count": 37,
   "id": "0578cb68-a866-4e17-a8e5-5bf1995820b4",
   "metadata": {},
   "outputs": [
    {
     "name": "stdout",
     "output_type": "stream",
     "text": [
      "[168.4317993   81.66799998 116.0835998  127.72020058 120.97410113\n",
      " 154.69919847 150.43619953 126.15800045 117.53569875 125.88520078\n",
      " 116.68320119 171.98940031 141.74169909 167.76589813 115.21880032\n",
      " 117.8986004  139.5711033  170.18630044 159.49720269 157.49259909\n",
      " 155.11619972 125.32209978 175.75639934 157.53470384 125.25480044\n",
      "  93.62869945  78.26929982 120.65410026 119.0851993  167.54020058\n",
      "  88.22020059 125.21150016  91.36300085 117.63750007 121.14089917\n",
      " 136.15450187 115.50360104 115.5572007  147.04919998 107.29830049\n",
      " 104.79760273  87.1438978  126.46770006 117.8954002  152.27789919\n",
      " 119.62620024 108.27110022 108.17279818  93.20100045 127.03699805\n",
      "  75.44710012 113.78189932 121.3804002  111.13699914 118.82379892\n",
      " 120.30759979 159.16220026 168.23340134 146.88719679  85.47849818\n",
      "  94.45920024  86.82179902  90.60739999 118.69470062 126.37760091\n",
      " 127.51979987 169.50480049 122.34869935 117.45569883  98.41430026\n",
      " 167.76250126 142.85589863 131.67430275 121.12320247 121.05559986\n",
      " 119.62320083 114.50280178 118.58100052 107.25310094 127.8635006\n",
      " 113.99179961 106.81220005 116.68890077 119.60639879  89.0698006\n",
      "  88.19709857 145.82800232 127.34190023 113.53790026 110.35339831\n",
      " 108.25259901  77.21929911 169.37070185 114.08669923 121.61179886\n",
      " 128.01390169 154.89269872  91.56369932 135.80650107 158.45320321\n",
      " 126.11840062 125.2303006  130.54720155 114.72000137 119.8492002\n",
      "  92.13249987 110.43799905 167.4359997  157.38869887 114.16059941\n",
      " 106.57460154  79.67479956 113.22990034 125.77930112 107.52689926\n",
      " 119.67890073 155.42170307 159.31649861 120.213      135.05710309\n",
      " 100.93249988 117.435498   119.16200019 112.81460077 102.80579928\n",
      " 160.2324979   98.78950008 147.36309925 125.62430108 170.09369896\n",
      " 125.44549901 127.28729787 127.22990155 113.75529938 113.04530081\n",
      " 123.72459938 102.15689914  89.65999978 124.45199957 101.29389928\n",
      " 107.21519912 113.34410116 117.31100084  98.7739991  121.76360028\n",
      " 163.17359957  87.388499   106.90179984 117.26740057 127.70250149\n",
      " 124.20100068  80.78469904 120.35910031 157.70799856  87.98949956\n",
      " 109.94060013 118.702599   172.53159827 102.96289914 105.46900025\n",
      " 122.63370045 158.44439773  87.34339831  93.30160055 112.87190019\n",
      " 177.35099905 114.64429971 119.1493003   94.51330122 125.66680022\n",
      " 165.95810146 114.76050066 116.76920149  88.31059859 148.77580044\n",
      " 120.39349929  89.44549975 111.4887997  117.19460045 118.64600122\n",
      "  88.34979987  94.29700022 117.19890009 118.44780176 120.33650093\n",
      " 126.55799883 121.86949991 149.60550017 165.80189989 118.46249967\n",
      " 120.34620143 151.41070009 118.4198993  173.00669851 105.30209966\n",
      " 104.96800156 149.79530055 113.7259008  124.9773009  147.45839964\n",
      " 119.70600107 115.26190018 112.20939992 113.50950158 141.7384014\n",
      " 117.92499765 102.92090022 115.84720118 104.04410193  98.40850052\n",
      " 117.4353007   90.68150017  91.48320061 153.3401984  102.68049937\n",
      " 154.65450085 114.35590155 138.39710102  90.16369796 115.42199957\n",
      " 114.2843998  123.33850034 121.80530047 165.43950142  92.90279939\n",
      " 135.57320164 121.33899939 120.94060069 104.63820022 143.49570275\n",
      " 121.79219951 116.72980043 113.83440044 126.82929825 122.32669965\n",
      " 125.64929914 121.2078005   86.96709875 132.61490124 145.62750228\n",
      "  92.69429953 158.06969959 158.53140233 125.91339978 165.44559953\n",
      " 108.85699994 110.08530053 103.73289837  94.27590073 127.8585031\n",
      " 107.05860049 160.12730026 121.83810012 131.96450095 130.62420151\n",
      " 160.8509004   90.27999842 175.55420189 127.94090054 126.73419862\n",
      "  86.43329917 124.52959947 150.3075973   89.62170012 107.09299992\n",
      " 109.14989972  84.20119889 136.00200035 154.96050237 139.5101035\n",
      "  73.6740003  152.92190109 125.95390008 126.68220017 127.48699886\n",
      " 108.74509929 156.03309947 114.45880109 117.01220146 125.1523994\n",
      " 154.14020176 121.42140008 156.43109883  93.03640046 125.48660114\n",
      " 125.38090017  87.81970052  92.02589921 126.14729923 128.06930302\n",
      " 113.04490077 117.44739716 120.98090009 126.77339826 119.41650144\n",
      " 136.20370074  94.05679942 119.81900064 113.34890087  94.32469947\n",
      " 109.00179973  87.38469943 108.92219961  89.56759962  92.24240015\n",
      " 131.47890275 162.59970074  89.06120014 119.72020054 133.5766019\n",
      " 123.85590021 128.65620224 101.90579847  88.92379916 131.91120031\n",
      " 119.7844005  108.70720019 168.96960041 115.20740081  86.64579932\n",
      " 118.77670061  91.08339969 161.63170097 116.6107005  121.39240038\n",
      " 159.97189739 120.04969943 112.61539919 108.55879861 126.73299999\n",
      "  75.99370008 102.96809975 127.76850319 121.77479937  92.53400008\n",
      " 132.29530072 118.32250118 116.21019969 154.63830255 159.42070069\n",
      " 110.30969941 153.54499719 119.20940091 160.33910086 118.53730044\n",
      " 156.83939961 115.09969891 116.50960008 149.98779924 114.68450059\n",
      " 125.8253988  165.60559966 117.6053     125.25669965 153.19680393\n",
      " 153.52010236 132.18500066 114.84070013 121.20880254 124.90020067\n",
      "  90.06939981 123.09719972 154.60510163 111.70380037 106.8731999\n",
      " 162.37620121 118.43649975 165.58989972 134.22370124 115.20009969\n",
      " 153.00569851 168.76079986 114.25340019 114.00350119 160.31309896\n",
      "  85.29269918 127.04460059 127.97500103 128.83129961 124.41530066\n",
      " 123.89790103  90.75240098 153.1658003   97.18199968 136.58229999\n",
      "  89.15819916 106.77980014 114.85560012 112.47790062 124.3129995\n",
      "  91.30929887 125.40310122 162.27379896 119.96949847 165.0985015\n",
      " 126.45549885 112.38289999 127.61119926  94.89319927  90.99529954\n",
      " 103.28779911 120.83269998  83.28379971 126.3959996  160.42850442\n",
      " 117.28580102 118.40779971 119.8952998  122.93989949 120.0977012\n",
      " 121.48420009 118.19070054 106.95480013 147.79729941 126.07499868\n",
      " 115.69730122  73.77100013 127.79690121 153.92260097 122.70739988\n",
      " 125.61370038  88.68620013 103.36919822 124.60640033 120.35810049\n",
      "  73.58040098 151.93249986 121.28370029 104.53630027  86.38529808\n",
      " 114.98909907 172.18319824 119.73880012 158.82679778 113.27279943\n",
      " 121.01759983 118.91670115  96.07559991 118.74180011 126.05280061\n",
      " 118.39379948  96.08850091 154.02220192 121.78050016 147.46879942\n",
      " 158.96290242 113.65250028 122.44479953 151.53419861 127.30830022\n",
      " 165.99610051 136.07850114 120.01539973 167.41929905 108.2094991\n",
      " 121.73669837 139.26570176 106.90129901]\n"
     ]
    }
   ],
   "source": [
    "print(test_data_prediction)"
   ]
  },
  {
   "cell_type": "code",
   "execution_count": 38,
   "id": "0fcf3c88-b1e1-43a1-a770-0a4a9ce3d457",
   "metadata": {},
   "outputs": [
    {
     "name": "stdout",
     "output_type": "stream",
     "text": [
      "R squared error :  0.9893392959824372\n"
     ]
    }
   ],
   "source": [
    "# R squared error\n",
    "error_score = metrics.r2_score(Y_test, test_data_prediction)\n",
    "print(\"R squared error : \", error_score)"
   ]
  },
  {
   "cell_type": "markdown",
   "id": "ad2c7133-a2ba-40c1-8ac8-28db4549637b",
   "metadata": {},
   "source": [
    "Compare the actual values and predicted values in a plot"
   ]
  },
  {
   "cell_type": "code",
   "execution_count": 39,
   "id": "c9b7d47b-946d-4b20-9d95-fa16deb34da7",
   "metadata": {},
   "outputs": [],
   "source": [
    "Y_test= list(Y_test)"
   ]
  },
  {
   "cell_type": "code",
   "execution_count": 45,
   "id": "39c08d50-4371-4acb-920b-9699959c3914",
   "metadata": {},
   "outputs": [
    {
     "data": {
      "image/png": "[encoded data removed]",
      "text/plain": [
       "<Figure size 432x288 with 1 Axes>"
      ]
     },
     "metadata": {
      "needs_background": "light"
     },
     "output_type": "display_data"
    }
   ],
   "source": [
    "plt.plot(Y_test, color='blue', label = 'Actual Value')\n",
    "plt.plot(test_data_prediction, color='orange', label='Predicted Value')\n",
    "plt.title('Actual Price vs Predicted Price')\n",
    "plt.xlabel('Number of values')\n",
    "plt.ylabel('GLD Price')\n",
    "plt.legend()\n",
    "plt.show()"
   ]
  },
  {
   "cell_type": "code",
   "execution_count": null,
   "id": "c5d28007-3d56-45a3-bdf9-01458147888f",
   "metadata": {},
   "outputs": [],
   "source": []
  }
 ],
 "metadata": {
  "kernelspec": {
   "display_name": "Python 3",
   "language": "python",
   "name": "python3"
  },
  "language_info": {
   "codemirror_mode": {
    "name": "ipython",
    "version": 3
   },
   "file_extension": ".py",
   "mimetype": "text/x-python",
   "name": "python",
   "nbconvert_exporter": "python",
   "pygments_lexer": "ipython3",
   "version": "3.8.8"
  }
 },
 "nbformat": 4,
 "nbformat_minor": 5
}
